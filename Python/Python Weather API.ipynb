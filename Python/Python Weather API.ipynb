{
 "cells": [
  {
   "cell_type": "code",
   "execution_count": 1,
   "metadata": {},
   "outputs": [],
   "source": [
    "import requests\n",
    "from pprint import pprint"
   ]
  },
  {
   "cell_type": "code",
   "execution_count": 4,
   "metadata": {},
   "outputs": [
    {
     "name": "stdout",
     "output_type": "stream",
     "text": [
      "Enter your city:delhi\n",
      "Temperature: 33\n",
      "Wind Speed: 3.6\n",
      "Latitude: 28.67\n",
      "Longitude: 77.22\n",
      "Description: haze\n"
     ]
    }
   ],
   "source": [
    "city = input('Enter your city:')\n",
    "\n",
    "url = 'http://api.openweathermap.org/data/2.5/weather?q={}&appid=ac7c75b9937a495021393024d0a90c44&units=metric'.format(city)\n",
    "\n",
    "res = requests.get(url)\n",
    "\n",
    "data = res.json()\n",
    "\n",
    "temp = data['main']['temp']\n",
    "w_speed = data['wind']['speed']\n",
    "lati = data['coord']['lat']\n",
    "longi = data['coord']['lon']\n",
    "description = data['weather'][0]['description']\n",
    "\n",
    "print('Temperature:',temp)\n",
    "print('Wind Speed: {}'.format(w_speed))\n",
    "print('Latitude: {}'.format(lati))\n",
    "print('Longitude: {}'.format(longi))\n",
    "print('Description: {}'.format(description))"
   ]
  },
  {
   "cell_type": "code",
   "execution_count": null,
   "metadata": {},
   "outputs": [],
   "source": []
  },
  {
   "cell_type": "code",
   "execution_count": null,
   "metadata": {},
   "outputs": [],
   "source": []
  }
 ],
 "metadata": {
  "kernelspec": {
   "display_name": "Python 3",
   "language": "python",
   "name": "python3"
  },
  "language_info": {
   "codemirror_mode": {
    "name": "ipython",
    "version": 3
   },
   "file_extension": ".py",
   "mimetype": "text/x-python",
   "name": "python",
   "nbconvert_exporter": "python",
   "pygments_lexer": "ipython3",
   "version": "3.7.1"
  }
 },
 "nbformat": 4,
 "nbformat_minor": 2
}
