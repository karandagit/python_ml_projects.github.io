{
 "cells": [
  {
   "cell_type": "code",
   "execution_count": 2,
   "metadata": {},
   "outputs": [],
   "source": [
    "import cv2\n",
    "import numpy as np"
   ]
  },
  {
   "cell_type": "code",
   "execution_count": 3,
   "metadata": {},
   "outputs": [],
   "source": [
    "img = cv2.imread('Pshapes.jpg')  #read image from system\n",
    "cv2.imshow('original', img)    #Displaying original image\n",
    "cv2.waitKey(0) \n",
    "gray = cv2.cvtColor(img,cv2.COLOR_BGR2GRAY)  #Convert to grayscale image\n",
    "edged = cv2.Canny(gray, 170, 255)\n",
    "\n",
    "ret,thresh = cv2.threshold(gray,240,255,cv2.THRESH_BINARY)\n",
    "\n",
    "(contours,_) = cv2.findContours(edged,cv2.RETR_EXTERNAL,cv2.CHAIN_APPROX_SIMPLE)\n",
    "\n",
    "def detectShape(c):\n",
    "    shape = 'unknown' \n",
    "    peri=cv2.arcLength(cnt,True) \n",
    "    vertices = cv2.approxPolyDP(cnt, 0.02 * peri, True)\n",
    "    sides = len(vertices)\n",
    "    if (sides == 3):\n",
    "        shape='triangle'\n",
    "    elif(sides==4):\n",
    "        x,y,w,h=cv2.boundingRect(cnt)\n",
    "        aspectratio=float(w)/h \n",
    "        if (aspectratio==1):\n",
    "            shape='square'\n",
    "        else:\n",
    "            shape='rectangle'\n",
    "    elif(sides==5):\n",
    "        shape='pentagon'\n",
    "    elif(sides==6):\n",
    "        shape='hexagon'\n",
    "    elif(sides==8):\n",
    "        shape='octagon'\n",
    "    elif(sides==10):\n",
    "        shape='star'\n",
    "    else:\n",
    "        shape='circle'\n",
    "    return shape\n",
    "for cnt in contours:\n",
    "    moment=cv2.moments(cnt) \n",
    "    cx = int(moment['m10'] / moment['m00']) \n",
    "    cy = int(moment['m01'] / moment['m00']) \n",
    "    shape=detectShape(cnt) \n",
    "    cv2.drawContours(img,[cnt],-1,(0,255,0),2)\n",
    "    cv2.putText(img,shape,(cx,cy),cv2.FONT_HERSHEY_SIMPLEX,0.5,(0,0,0),2)\n",
    "    cv2.imshow('polygons_detected',img)\n",
    "cv2.waitKey(0) \n",
    "cv2.destroyAllWindows()    "
   ]
  },
  {
   "cell_type": "code",
   "execution_count": null,
   "metadata": {},
   "outputs": [],
   "source": []
  }
 ],
 "metadata": {
  "kernelspec": {
   "display_name": "Python 3",
   "language": "python",
   "name": "python3"
  },
  "language_info": {
   "codemirror_mode": {
    "name": "ipython",
    "version": 3
   },
   "file_extension": ".py",
   "mimetype": "text/x-python",
   "name": "python",
   "nbconvert_exporter": "python",
   "pygments_lexer": "ipython3",
   "version": "3.7.1"
  }
 },
 "nbformat": 4,
 "nbformat_minor": 2
}
