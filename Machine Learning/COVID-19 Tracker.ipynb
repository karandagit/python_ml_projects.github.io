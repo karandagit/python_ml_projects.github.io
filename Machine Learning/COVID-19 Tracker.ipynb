{
 "cells": [
  {
   "cell_type": "code",
   "execution_count": 1,
   "metadata": {},
   "outputs": [],
   "source": [
    "import pandas as pd\n",
    "import requests\n",
    "from bs4 import BeautifulSoup\n",
    "from prettytable import PrettyTable\n",
    "import datetime"
   ]
  },
  {
   "cell_type": "code",
   "execution_count": null,
   "metadata": {},
   "outputs": [],
   "source": [
    "url = 'https://www.mohfw.gov.in/'\n",
    "web_content = requests.get(url).content\n",
    "soup = BeautifulSoup(web_content, \"html.parser\")\n",
    "extract_contents = lambda row: [x.text.replace('\\n', '') for x in row]\n",
    "\n",
    "stats = [] \n",
    "all_rows = soup.find_all('tr') \n",
    "\n",
    "for row in all_rows:\n",
    "    stat = extract_contents(row.find_all('td')) \n",
    "    if len(stat) == 5:\n",
    "        stats.append(stat)\n",
    "        \n",
    "new_cols = [\"Sr.No\", \"States/UT\",\"Confirmed\",\"Recovered\",\"Deceased\"]\n",
    "state_data = pd.DataFrame(data = stats, columns = new_cols)\n",
    "\n",
    "state_data['Confirmed'] = state_data['Confirmed'].map(int)\n",
    "state_data['Recovered'] = state_data['Recovered'].map(int)\n",
    "state_data['Deceased']  = state_data['Deceased'].map(int)\n",
    "\n",
    "table = PrettyTable()\n",
    "table.field_names = (new_cols)\n",
    "for i in stats:\n",
    "    table.add_row(i)\n",
    "table.add_row([\"\",\"Total\",\n",
    "               sum(state_data['Confirmed']),\n",
    "               sum(state_data['Recovered']), \n",
    "               sum(state_data['Deceased'])])\n",
    "\n",
    "now = datetime.datetime.now()\n",
    "print(\"COVID-19 Live situation in India at : \"+ now.strftime(\"%Y-%m-%d %H:%M:%S\"))\n",
    "print(table)"
   ]
  }
 ],
 "metadata": {
  "kernelspec": {
   "display_name": "Python 3",
   "language": "python",
   "name": "python3"
  },
  "language_info": {
   "codemirror_mode": {
    "name": "ipython",
    "version": 3
   },
   "file_extension": ".py",
   "mimetype": "text/x-python",
   "name": "python",
   "nbconvert_exporter": "python",
   "pygments_lexer": "ipython3",
   "version": "3.7.1"
  }
 },
 "nbformat": 4,
 "nbformat_minor": 2
}
